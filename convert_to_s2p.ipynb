{
 "cells": [
  {
   "cell_type": "markdown",
   "id": "764e2f50",
   "metadata": {},
   "source": [
    "[aric's touchstone docs](https://aricsanders.github.io/Examples/html/TouchstoneModels_Example.html)"
   ]
  },
  {
   "cell_type": "code",
   "execution_count": 1,
   "id": "7fdf96bc",
   "metadata": {},
   "outputs": [],
   "source": [
    "import json\n",
    "import matplotlib.pyplot as plt\n",
    "import numpy as np\n",
    "import os\n",
    "import time\n",
    "import datetime\n",
    "#jupyter notebook --notebook-dir=c:\\xampp\\htdocs\\quantumswitch"
   ]
  },
  {
   "cell_type": "code",
   "execution_count": 41,
   "id": "2df25d11",
   "metadata": {},
   "outputs": [],
   "source": [
    "file = open('quantumswitchdata.txt', \"r\")\n",
    "rawjson = file.read()\n",
    "quantumswitchdata = json.loads(rawjson)\n",
    "file.close()"
   ]
  },
  {
   "cell_type": "code",
   "execution_count": 42,
   "id": "45085aba",
   "metadata": {},
   "outputs": [],
   "source": [
    "for port in range(1,10):\n",
    "    filename = 'xldcaldata\\\\' + quantumswitchdata['devicenames'][port-1] + '.s2p'\n",
    "    s2p_text = '# Hz    S   RI   R   50.0\\n'\n",
    "    for index in range(len(quantumswitchdata['f'])):\n",
    "        s2p_text += str(quantumswitchdata['f'][index]) + '  '\n",
    "        s2p_text += str(quantumswitchdata['S11port' + str(port) + 'real'][index]) + '  '\n",
    "        s2p_text += str(quantumswitchdata['S11port' + str(port) + 'imag'][index]) + '  '\n",
    "        s2p_text += str(quantumswitchdata['S21port' + str(port) + 'real'][index]) + '  '\n",
    "        s2p_text += str(quantumswitchdata['S21port' + str(port) + 'imag'][index]) + '  '\n",
    "        s2p_text += str(quantumswitchdata['S12port' + str(port) + 'real'][index]) + '  '\n",
    "        s2p_text += str(quantumswitchdata['S12port' + str(port) + 'imag'][index]) + '  '\n",
    "        s2p_text += str(quantumswitchdata['S22port' + str(port) + 'real'][index]) + '  '\n",
    "        s2p_text += str(quantumswitchdata['S22port' + str(port) + 'imag'][index]) + '  '\n",
    "        s2p_text += '\\n'\n",
    "    file = open(filename, 'w')\n",
    "    file.write(s2p_text)\n",
    "    file.close()\n"
   ]
  },
  {
   "cell_type": "code",
   "execution_count": null,
   "id": "044ddf94",
   "metadata": {},
   "outputs": [],
   "source": []
  }
 ],
 "metadata": {
  "kernelspec": {
   "display_name": "Python 3 (ipykernel)",
   "language": "python",
   "name": "python3"
  },
  "language_info": {
   "codemirror_mode": {
    "name": "ipython",
    "version": 3
   },
   "file_extension": ".py",
   "mimetype": "text/x-python",
   "name": "python",
   "nbconvert_exporter": "python",
   "pygments_lexer": "ipython3",
   "version": "3.11.5"
  }
 },
 "nbformat": 4,
 "nbformat_minor": 5
}

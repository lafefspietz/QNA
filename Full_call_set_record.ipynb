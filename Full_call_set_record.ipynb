{
 "cells": [
  {
   "cell_type": "code",
   "execution_count": 1,
   "metadata": {},
   "outputs": [],
   "source": [
    "## jupyter notebook --notebook-dir=z:\\lafe \n",
    "from MS461xx_RawSockets_example import *\n",
    "import pyvisa\n",
    "import json\n",
    "import matplotlib.pyplot as plt\n",
    "import numpy as np\n",
    "import os\n",
    "import time\n",
    "import datetime\n",
    "import serial"
   ]
  },
  {
   "cell_type": "code",
   "execution_count": 3,
   "metadata": {},
   "outputs": [],
   "source": [
    "shockline_socket = InstrumentSocketConnection('* TCPIP0::132.163.130.56::5001::SOCKET', 30)"
   ]
  },
  {
   "cell_type": "code",
   "execution_count": 4,
   "metadata": {},
   "outputs": [
    {
     "data": {
      "text/plain": [
       "'ANRITSU,MS46122B,2250307,V2023.7.5,V2.3.20'"
      ]
     },
     "execution_count": 4,
     "metadata": {},
     "output_type": "execute_result"
    }
   ],
   "source": [
    "shockline_socket.query(\"*IDN?\")"
   ]
  },
  {
   "cell_type": "code",
   "execution_count": 5,
   "metadata": {},
   "outputs": [
    {
     "name": "stdout",
     "output_type": "stream",
     "text": [
      "COM1: Communications Port (COM1) [ACPI\\PNP0501\\0]\n",
      "COM3: Intel(R) Active Management Technology - SOL (COM3) [PCI\\VEN_8086&DEV_A2BD&SUBSYS_07381028&REV_00\\3&11583659&1&B3]\n",
      "COM4: Arduino Uno (COM4) [USB VID:PID=2341:0043 SER=7503330323435151C020 LOCATION=1-10.1.2]\n",
      "COM5: USB Serial Device (COM5) [USB VID:PID=3343:0043 SER=851363038373519150A0 LOCATION=1-10.1.1]\n"
     ]
    }
   ],
   "source": [
    "import serial.tools.list_ports\n",
    "ports = serial.tools.list_ports.comports()\n",
    "\n",
    "for port, desc, hwid in sorted(ports):\n",
    "        print(\"{}: {} [{}]\".format(port, desc, hwid))"
   ]
  },
  {
   "cell_type": "code",
   "execution_count": 6,
   "metadata": {},
   "outputs": [],
   "source": [
    "Sparameter_select_serial = serial.Serial('COM4', 9600)  # open serial port"
   ]
  },
  {
   "cell_type": "code",
   "execution_count": 7,
   "metadata": {},
   "outputs": [],
   "source": [
    "SP9T_serial = serial.Serial('COM5', 9600)  # open serial port"
   ]
  },
  {
   "cell_type": "code",
   "execution_count": 9,
   "metadata": {},
   "outputs": [
    {
     "data": {
      "text/plain": [
       "1"
      ]
     },
     "execution_count": 9,
     "metadata": {},
     "output_type": "execute_result"
    }
   ],
   "source": [
    "Sparameter_select_serial.write(bytes(str(1), encoding='utf-8'))"
   ]
  },
  {
   "cell_type": "code",
   "execution_count": 14,
   "metadata": {},
   "outputs": [
    {
     "data": {
      "text/plain": [
       "1"
      ]
     },
     "execution_count": 14,
     "metadata": {},
     "output_type": "execute_result"
    }
   ],
   "source": [
    "SP9T_serial.write(bytes(str(8), encoding='utf-8'))"
   ]
  },
  {
   "cell_type": "code",
   "execution_count": 18,
   "metadata": {},
   "outputs": [
    {
     "data": {
      "text/plain": [
       "1"
      ]
     },
     "execution_count": 18,
     "metadata": {},
     "output_type": "execute_result"
    }
   ],
   "source": [
    "Sparameter_select_serial.write(bytes(str(1), encoding='utf-8'))"
   ]
  },
  {
   "cell_type": "code",
   "execution_count": 21,
   "metadata": {},
   "outputs": [],
   "source": [
    "# Take all 4 S parameters on all 9 devices\n",
    "\n",
    "# Get frequency points and turn them into a array\n",
    "fstring = shockline_socket.query(\":SENS1:FREQ:DATA?\")\n",
    "fstringarray = fstring.split(' ')[1:len(fstring.split(' '))]\n",
    "frequency = []\n",
    "for index in range(len(fstringarray)):\n",
    "    frequency.append(float(fstringarray[index]))\n",
    "frequency = np.array(frequency)\n",
    "\n",
    "\n",
    "# set switch state to select S paramater\n",
    "Sparameter_select_serial.write(bytes(str(1), encoding='utf-8')) # S11\n",
    "time.sleep(2.0)\n",
    "# get the data from the one trace, real and imaginary parts\n",
    "datastring = shockline_socket.query(\":CALC1:PAR1:DATA:SDAT?\")\n",
    "datastringarray = datastring.split('\\n')\n",
    "datastringarray[0] = datastringarray[0].split('#9000029999')[1]# why is this mysterious long number always inserted?\n",
    "S11_real = []\n",
    "S11_imag = []\n",
    "for index in range(len(datastringarray)):\n",
    "    r1 = float(datastringarray[index].split(',')[0])\n",
    "    i1 = float(datastringarray[index].split(',')[1])\n",
    "    S11_real.append(r1)\n",
    "    S11_imag.append(i1)\n",
    "\n",
    "S11_real = np.array(S11_real)\n",
    "S11_imag = np.array(S11_imag)\n",
    "\n",
    "time.sleep(2.0)\n",
    "# set switch state to select S paramater\n",
    "Sparameter_select_serial.write(bytes(str(2), encoding='utf-8')) # S22\n",
    "time.sleep(2.0)\n",
    "# get the data from the one trace, real and imaginary parts\n",
    "datastring = shockline_socket.query(\":CALC1:PAR1:DATA:SDAT?\")\n",
    "datastringarray = datastring.split('\\n')\n",
    "datastringarray[0] = datastringarray[0].split('#9000029999')[1]# why is this mysterious long number always inserted?\n",
    "S22_real = []\n",
    "S22_imag = []\n",
    "for index in range(len(datastringarray)):\n",
    "    r1 = float(datastringarray[index].split(',')[0])\n",
    "    i1 = float(datastringarray[index].split(',')[1])\n",
    "    S22_real.append(r1)\n",
    "    S22_imag.append(i1)\n",
    "\n",
    "S22_real = np.array(S22_real)\n",
    "S22_imag = np.array(S22_imag)\n",
    "\n",
    "# set switch state to select S paramater\n",
    "time.sleep(2.0)\n",
    "Sparameter_select_serial.write(bytes(str(3), encoding='utf-8')) # S21\n",
    "time.sleep(2.0)\n",
    "# get the data from the one trace, real and imaginary parts\n",
    "datastring = shockline_socket.query(\":CALC1:PAR1:DATA:SDAT?\")\n",
    "datastringarray = datastring.split('\\n')\n",
    "datastringarray[0] = datastringarray[0].split('#9000029999')[1]# why is this mysterious long number always inserted?\n",
    "S21_real = []\n",
    "S21_imag = []\n",
    "for index in range(len(datastringarray)):\n",
    "    r1 = float(datastringarray[index].split(',')[0])\n",
    "    i1 = float(datastringarray[index].split(',')[1])\n",
    "    S21_real.append(r1)\n",
    "    S21_imag.append(i1)\n",
    "\n",
    "S21_real = np.array(S21_real)\n",
    "S21_imag = np.array(S21_imag)\n",
    "\n",
    "# set switch state to select S paramater\n",
    "time.sleep(2.0)\n",
    "Sparameter_select_serial.write(bytes(str(4), encoding='utf-8')) # S12\n",
    "time.sleep(2.0)\n",
    "# get the data from the one trace, real and imaginary parts\n",
    "datastring = shockline_socket.query(\":CALC1:PAR1:DATA:SDAT?\")\n",
    "datastringarray = datastring.split('\\n')\n",
    "datastringarray[0] = datastringarray[0].split('#9000029999')[1]# why is this mysterious long number always inserted?\n",
    "S12_real = []\n",
    "S12_imag = []\n",
    "for index in range(len(datastringarray)):\n",
    "    r1 = float(datastringarray[index].split(',')[0])\n",
    "    i1 = float(datastringarray[index].split(',')[1])\n",
    "    S12_real.append(r1)\n",
    "    S12_imag.append(i1)\n",
    "\n",
    "S12_real = np.array(S12_real)\n",
    "S12_imag = np.array(S12_imag)\n",
    "\n",
    "S11_complex = S11_real + 1j*S11_imag\n",
    "S22_complex = S22_real + 1j*S22_imag\n",
    "S21_complex = S21_real + 1j*S21_imag\n",
    "S12_complex = S12_real + 1j*S12_imag\n",
    "S11_logmag = 10*np.log10(S11_real*S11_real + S11_imag*S11_imag)\n",
    "S22_logmag = 10*np.log10(S22_real*S22_real + S22_imag*S22_imag)\n",
    "S21_logmag = 10*np.log10(S21_real*S21_real + S21_imag*S21_imag)\n",
    "S12_logmag = 10*np.log10(S12_real*S12_real + S12_imag*S12_imag)\n",
    "S11_phase = np.unwrap(np.angle(S11_complex,deg=True))\n",
    "S22_phase = np.unwrap(np.angle(S22_complex,deg=True))\n",
    "S21_phase = np.unwrap(np.angle(S21_complex,deg=True))\n",
    "S12_phase = np.unwrap(np.angle(S12_complex,deg=True))\n"
   ]
  },
  {
   "cell_type": "code",
   "execution_count": 41,
   "metadata": {},
   "outputs": [
    {
     "data": {
      "text/plain": [
       "'1.00000000000E+003'"
      ]
     },
     "execution_count": 41,
     "metadata": {},
     "output_type": "execute_result"
    }
   ],
   "source": [
    "shockline_socket.write(\":SENS1:BAND 1e3\")\n",
    "IFBW = shockline_socket.query(\":SENS1:BAND?\")\n",
    "IFBW"
   ]
  },
  {
   "cell_type": "code",
   "execution_count": 30,
   "metadata": {},
   "outputs": [],
   "source": [
    "S11_complex = S11_real + 1j*S11_imag"
   ]
  },
  {
   "cell_type": "code",
   "execution_count": 36,
   "metadata": {},
   "outputs": [
    {
     "data": {
      "text/plain": [
       "[<matplotlib.lines.Line2D at 0x1310ef0>]"
      ]
     },
     "execution_count": 36,
     "metadata": {},
     "output_type": "execute_result"
    },
    {
     "data": {
      "image/png": "[encoded data removed]",
      "text/plain": [
       "<Figure size 432x288 with 1 Axes>"
      ]
     },
     "metadata": {
      "needs_background": "light"
     },
     "output_type": "display_data"
    }
   ],
   "source": [
    "plt.plot(frequency/1e9,np.unwrap(np.angle(S11_complex,deg=True)))\n",
    "plt.grid()\n",
    "plt.xlabel('Frequency [GHz]')\n",
    "plt.ylabel('$|S_{xx}|^2$ [dB]')\n",
    "plt.ylim((-60,0))\n",
    "plt.xlim((1,15))\n",
    "plt.legend(['$|S_{11}|^2$','$|S_{22}|^2$','$|S_{21}|^2$','$|S_{12}|^2$'])"
   ]
  },
  {
   "cell_type": "code",
   "execution_count": 19,
   "metadata": {},
   "outputs": [
    {
     "data": {
      "text/plain": [
       "(1.0, 12.0)"
      ]
     },
     "execution_count": 19,
     "metadata": {},
     "output_type": "execute_result"
    },
    {
     "data": {
      "image/png": "[encoded data removed]",
      "text/plain": [
       "<Figure size 432x288 with 1 Axes>"
      ]
     },
     "metadata": {
      "needs_background": "light"
     },
     "output_type": "display_data"
    }
   ],
   "source": [
    "# Get frequency points and turn them into a array\n",
    "fstring = shockline_socket.query(\":SENS1:FREQ:DATA?\")\n",
    "fstringarray = fstring.split(' ')[1:len(fstring.split(' '))]\n",
    "frequency = []\n",
    "for index in range(len(fstringarray)):\n",
    "    frequency.append(float(fstringarray[index]))\n",
    "frequency = np.array(frequency)\n",
    "# get the data from the one trace, real and imaginary parts\n",
    "datastring = shockline_socket.query(\":CALC1:PAR1:DATA:SDAT?\")\n",
    "datastringarray = datastring.split('\\n')\n",
    "datastringarray[0] = datastringarray[0].split('#9000029999')[1]# why is this mysterious long number always inserted?\n",
    "\n",
    "# we use Sxx because while we're just measuring S21 on the Anritsu VNA\n",
    "Sxx_real = []\n",
    "Sxx_imag = []\n",
    "\n",
    "for index in range(len(datastringarray)):\n",
    "    r1 = float(datastringarray[index].split(',')[0])\n",
    "    i1 = float(datastringarray[index].split(',')[1])\n",
    "    Sxx_real.append(r1)\n",
    "    Sxx_imag.append(i1)\n",
    "\n",
    "Sxx_real = np.array(Sxx_real)\n",
    "Sxx_imag = np.array(Sxx_imag)\n",
    "plt.plot(frequency/1e9,10*np.log10(Sxx_real*Sxx_real + Sxx_imag*Sxx_imag)) \n",
    "plt.xlabel('Frequency [GHz]')\n",
    "plt.ylabel('$|S_{xx}|^2$ [dB]')\n",
    "plt.ylim((-110,-80))\n",
    "plt.grid()\n",
    "plt.xlim((frequency[0]/1e9,frequency[len(frequency) - 1]/1e9))"
   ]
  },
  {
   "cell_type": "code",
   "execution_count": null,
   "metadata": {},
   "outputs": [],
   "source": []
  }
 ],
 "metadata": {
  "kernelspec": {
   "display_name": "Python 3 (ipykernel)",
   "language": "python",
   "name": "python3"
  },
  "language_info": {
   "codemirror_mode": {
    "name": "ipython",
    "version": 3
   },
   "file_extension": ".py",
   "mimetype": "text/x-python",
   "name": "python",
   "nbconvert_exporter": "python",
   "pygments_lexer": "ipython3",
   "version": "3.11.5"
  }
 },
 "nbformat": 4,
 "nbformat_minor": 2
}
